{
 "cells": [
  {
   "cell_type": "markdown",
   "metadata": {},
   "source": [
    "# Project: Investigating Doctors Appointment Dataset\n",
    "## Table of Contents\n",
    "<ul>\n",
    "<li><a href=\"#intro\">Introduction</a></li>\n",
    "<li><a href=\"#wrangling\">Data Wrangling</a></li>\n",
    "<li><a href=\"#eda\">Exploratory Data Analysis</a></li>\n",
    "<li><a href=\"#conclusions\">Conclusions</a></li>\n",
    "</ul>"
   ]
  },
  {
   "cell_type": "markdown",
   "metadata": {},
   "source": [
    "<a id='intro'></a>\n",
    "## Introduction\n"
   ]
  },
  {
   "cell_type": "markdown",
   "metadata": {},
   "source": [
    "The selected datasheet provides the number of people who have and have not attended their doctors appointment. With the datasheet, we try to determine what percentage of people attend their appointments succesfully and what types of people are likely to attend their appointments. This could include demographics, income levels or health conditions. Using exploratory data anlysis, this project aims to identify these correlations through the following steps:\n",
    "- Data Cleansing\n",
    "- Explorative Analysis\n",
    "- Visualization\n",
    "\n",
    "We identified that a significant percentage of people do not attend thier appointments, where the majority of them lies in the younger demographic and people in the lower income threshold. Additionally, we also identify that most people dont hold appointments in the weekend, while during the weekdays, Monday & Fridays see less appointments being attended compared to the other week days."
   ]
  },
  {
   "cell_type": "code",
   "execution_count": 4,
   "metadata": {},
   "outputs": [],
   "source": [
    "# Use this cell to set up import statements for all of the packages that you\n",
    "#   plan to use.\n",
    "import pandas as pd \n",
    "import numpy as np \n",
    "import matplotlib.pyplot as plt\n",
    "import seaborn as sb\n",
    "sb.set_style('darkgrid')\n",
    "%matplotlib inline\n",
    "# Remember to include a 'magic word' so that your visualizations are plotted\n",
    "#   inline with the notebook. See this page for more:\n",
    "#   http://ipython.readthedocs.io/en/stable/interactive/magics.html\n"
   ]
  },
  {
   "cell_type": "markdown",
   "metadata": {},
   "source": [
    "<a id='wrangling'></a>\n",
    "## Data Wrangling\n",
    "\n",
    "\n",
    "### General Properties"
   ]
  },
  {
   "cell_type": "code",
   "execution_count": 5,
   "metadata": {},
   "outputs": [
    {
     "name": "stdout",
     "output_type": "stream",
     "text": [
      "<class 'pandas.core.frame.DataFrame'>\n",
      "RangeIndex: 110527 entries, 0 to 110526\n",
      "Data columns (total 14 columns):\n",
      " #   Column          Non-Null Count   Dtype  \n",
      "---  ------          --------------   -----  \n",
      " 0   PatientId       110527 non-null  float64\n",
      " 1   AppointmentID   110527 non-null  int64  \n",
      " 2   Gender          110527 non-null  object \n",
      " 3   ScheduledDay    110527 non-null  object \n",
      " 4   AppointmentDay  110527 non-null  object \n",
      " 5   Age             110527 non-null  int64  \n",
      " 6   Neighbourhood   110527 non-null  object \n",
      " 7   Scholarship     110527 non-null  int64  \n",
      " 8   Hipertension    110527 non-null  int64  \n",
      " 9   Diabetes        110527 non-null  int64  \n",
      " 10  Alcoholism      110527 non-null  int64  \n",
      " 11  Handcap         110527 non-null  int64  \n",
      " 12  SMS_received    110527 non-null  int64  \n",
      " 13  No-show         110527 non-null  object \n",
      "dtypes: float64(1), int64(8), object(5)\n",
      "memory usage: 11.8+ MB\n"
     ]
    }
   ],
   "source": [
    "df = pd.read_csv('noshowappointments-kagglev2-may-2016.csv')\n",
    "df.info()"
   ]
  },
  {
   "cell_type": "markdown",
   "metadata": {},
   "source": [
    "\n",
    "### Data Cleaning"
   ]
  },
  {
   "cell_type": "code",
   "execution_count": 6,
   "metadata": {},
   "outputs": [],
   "source": [
    "#Removing any Age below 0\n",
    "df.drop(index = df.query('Age<0').index, inplace = True)\n",
    "df.query('Age<0')\n",
    "\n",
    "#checking for duplicates\n",
    "df.duplicated() == False\n",
    "\n",
    "#changing PatientId type to int64\n",
    "df['PatientId'] = df['PatientId'].astype('int64')\n",
    "\n",
    "#Handicap is only a Boolean, values more than one is not acceptable\n",
    "df.drop(index = df.query('Handcap >1').index, inplace = True)\n",
    "\n",
    "#Renaming Column Name to overome TypeError\n",
    "df.rename(columns = {'No-show':'Noshow'}, inplace = True)\n",
    "\n",
    "#Converting ScheduledDay and AppointmentDay as DateTime Object\n",
    "df['ScheduledDay'] = df['ScheduledDay'].apply(lambda x: x.replace('T',''))\n",
    "df['ScheduledDay'] = df['ScheduledDay'].apply(lambda x: x.replace(\"Z\",''))\n",
    "df['ScheduledDay'] = pd.to_datetime(df['ScheduledDay'], format = '%Y-%m-%d%H:%M:%S')\n",
    "\n",
    "\n",
    "df['AppointmentDay'] = df['AppointmentDay'].apply(lambda x: x.replace('T',''))\n",
    "df['AppointmentDay'] = df['AppointmentDay'].apply(lambda x: x.replace(\"Z\",''))\n",
    "df['AppointmentDay'] = pd.to_datetime(df['AppointmentDay'], format = '%Y-%m-%d%H:%M:%S')\n",
    "\n",
    "#Adding Waiting Time to appointmet to the dataframe\n",
    "df['Wait_time'] = ((pd.to_datetime(df['AppointmentDay']) - df['ScheduledDay'])/np.timedelta64(1,'h')).round(1)\n",
    "\n",
    "#Removing any negative waiting time, which indicates appointment dates are before scheduled dates\n",
    "df.drop (index=df.query('ScheduledDay > AppointmentDay').index, inplace=True)\n"
   ]
  },
  {
   "cell_type": "markdown",
   "metadata": {},
   "source": [
    "<a id='eda'></a>\n",
    "## Exploratory Data Analysis\n",
    "\n",
    "\n",
    "\n",
    "### Research Question 1: What is the percentage of people showed up successfully for appointments?"
   ]
  },
  {
   "cell_type": "code",
   "execution_count": 9,
   "metadata": {},
   "outputs": [
    {
     "data": {
      "text/plain": [
       "Text(0.5, 1.0, '% Representation of Unsuccesful Appointments')"
      ]
     },
     "execution_count": 9,
     "metadata": {},
     "output_type": "execute_result"
    },
    {
     "data": {
      "image/png": "[encoded data removed]",
      "text/plain": [
       "<Figure size 432x288 with 1 Axes>"
      ]
     },
     "metadata": {},
     "output_type": "display_data"
    }
   ],
   "source": [
    "#graphical representation\n",
    "df['PatientId'] = df['PatientId'].astype('int64')\n",
    "\n",
    "noshow_percent = df['Noshow'].value_counts(normalize = True).mul(100).round(1)\n",
    "\n",
    "plt.pie(noshow_percent, labels = ['Showed Up', 'Didnt Show Up'])\n",
    "\n",
    "plt.title('% Representation of Unsuccesful Appointments')\n"
   ]
  },
  {
   "cell_type": "markdown",
   "metadata": {},
   "source": [
    "### Research Question 2: How does Age determine if the person shows up for the appointment or not?"
   ]
  },
  {
   "cell_type": "code",
   "execution_count": 15,
   "metadata": {},
   "outputs": [
    {
     "data": {
      "text/plain": [
       "[0, 19, 39, 57, 115]"
      ]
     },
     "execution_count": 15,
     "metadata": {},
     "output_type": "execute_result"
    },
    {
     "data": {
      "image/png": "[encoded data removed]",
      "text/plain": [
       "<Figure size 432x288 with 1 Axes>"
      ]
     },
     "metadata": {
      "needs_background": "light"
     },
     "output_type": "display_data"
    }
   ],
   "source": [
    "#Creating Age Bins\n",
    "age_bin = list(df.Age.describe().astype('int64'))[3:8]\n",
    "bin_names =['0-18', '19-37', '38-55', '56 - 115']\n",
    "df['Age_bins'] = pd.cut(df['Age'], age_bin, labels = bin_names)\n",
    "\n",
    "#finding no. of people attended or did not attend their appointments based on age bins\n",
    "age_counts = df.groupby(['Noshow', 'Age_bins']).count()['PatientId']\n",
    "\n",
    "#finding no. of people attended or did not attend their appointments \n",
    "noshow_counts = df.groupby(['Noshow']).count()['PatientId']\n",
    "\n",
    "#taking count as a proportion\n",
    "yes_count = age_counts['Yes']/noshow_counts['Yes']\n",
    "no_count = age_counts['No']/noshow_counts['No']\n",
    "\n",
    "#plotting 2d graph for comparison\n",
    "ind = np.arange(len(yes_count))\n",
    "width =0.35\n",
    "\n",
    "yes = plt.bar(ind,yes_count, width, color ='r', alpha =.7, label= 'Did not show up' ),\n",
    "\n",
    "no = plt.bar(ind+width,no_count, width, color ='b', alpha =.7, label= 'Showed Up' ),\n",
    "plt.legend(),\n",
    "plt.ylabel('Proportion')\n",
    "plt.xlabel('Age Group')\n",
    "plt.title('Proportion of Succesful Appointments by Age Group')\n",
    "locations = ind + width/2\n",
    "labels = ['0-18', '18-37','37-55','55-115' ]\n",
    "plt.xticks(locations,labels),\n",
    "age_bin"
   ]
  },
  {
   "cell_type": "markdown",
   "metadata": {},
   "source": [
    "Based on observation, working class age groups from 18 to 37 years old and children are more likely to not show up for their appointments compared to the older age groups."
   ]
  },
  {
   "cell_type": "markdown",
   "metadata": {},
   "source": [
    "### Research Question 3: How does Age determine if the person shows up for the appointment or not?"
   ]
  },
  {
   "cell_type": "code",
   "execution_count": 16,
   "metadata": {},
   "outputs": [
    {
     "data": {
      "text/plain": [
       "array(['Friday', 'Tuesday', 'Monday', 'Thursday', 'Wednesday', 'Saturday'],\n",
       "      dtype=object)"
      ]
     },
     "execution_count": 16,
     "metadata": {},
     "output_type": "execute_result"
    },
    {
     "data": {
      "image/png": "[encoded data removed]",
      "text/plain": [
       "<Figure size 432x288 with 1 Axes>"
      ]
     },
     "metadata": {
      "needs_background": "light"
     },
     "output_type": "display_data"
    }
   ],
   "source": [
    "#Adding new columns\n",
    "df['AppointmentDay_DOW'] = df.AppointmentDay.dt.day_name()\n",
    "df['ScheduledDay_Date'] = df.ScheduledDay.dt.date\n",
    "df['AppointmentDay_Date'] = df.AppointmentDay.dt.date\n",
    "\n",
    "#finding no. of people attended or did not attend their appointments based on weekday\n",
    "weekday_count= df.groupby(['Noshow','AppointmentDay_DOW'])['PatientId'].count()\n",
    "\n",
    "#taking count as a proportion\n",
    "no_weekday = weekday_count['No']/noshow_counts['No']\n",
    "yes_weekday = weekday_count['Yes']/noshow_counts['Yes']\n",
    "\n",
    "ind = np.arange(len(yes_weekday))\n",
    "width = 0.35\n",
    "\n",
    "yes = plt.bar(ind,yes_weekday, width, color ='r', alpha =.7, label= 'Did not show up' )\n",
    "no = plt.bar(ind+width,no_weekday, width, color ='b', alpha =.7, label= 'Showed Up' )\n",
    "plt.legend()\n",
    "plt.ylabel('Count'),\n",
    "plt.xlabel('Weekdays'),\n",
    "plt.title('No. of people showed up in weekday'),\n",
    "locations = ind + width/2\n",
    "labels = list(yes_weekday.index)\n",
    "plt.xticks(locations,labels),\n",
    "df['AppointmentDay_DOW'].unique()"
   ]
  },
  {
   "cell_type": "markdown",
   "metadata": {},
   "source": [
    "More people are likely to show up on Wednesdays compared to the rest of the days and they are less likely to show up for their appointments on Monday and Friday. Appointments made on Saturday are insignificant."
   ]
  },
  {
   "cell_type": "markdown",
   "metadata": {},
   "source": [
    "### Research Question 4: What other factors determine successful appointments?"
   ]
  },
  {
   "cell_type": "code",
   "execution_count": 17,
   "metadata": {},
   "outputs": [
    {
     "data": {
      "text/html": [
       "<div>\n",
       "<style scoped>\n",
       "    .dataframe tbody tr th:only-of-type {\n",
       "        vertical-align: middle;\n",
       "    }\n",
       "\n",
       "    .dataframe tbody tr th {\n",
       "        vertical-align: top;\n",
       "    }\n",
       "\n",
       "    .dataframe thead th {\n",
       "        text-align: right;\n",
       "    }\n",
       "</style>\n",
       "<table border=\"1\" class=\"dataframe\">\n",
       "  <thead>\n",
       "    <tr style=\"text-align: right;\">\n",
       "      <th></th>\n",
       "      <th>Scholarship</th>\n",
       "      <th>Diabetes</th>\n",
       "      <th>Hipertension</th>\n",
       "      <th>Alcoholism</th>\n",
       "      <th>Handcap</th>\n",
       "      <th>SMS_received</th>\n",
       "    </tr>\n",
       "    <tr>\n",
       "      <th>Noshow</th>\n",
       "      <th></th>\n",
       "      <th></th>\n",
       "      <th></th>\n",
       "      <th></th>\n",
       "      <th></th>\n",
       "      <th></th>\n",
       "    </tr>\n",
       "  </thead>\n",
       "  <tbody>\n",
       "    <tr>\n",
       "      <th>No</th>\n",
       "      <td>65.006002</td>\n",
       "      <td>75.056096</td>\n",
       "      <td>76.53068</td>\n",
       "      <td>65.895317</td>\n",
       "      <td>74.936709</td>\n",
       "      <td>72.41428</td>\n",
       "    </tr>\n",
       "    <tr>\n",
       "      <th>Yes</th>\n",
       "      <td>34.993998</td>\n",
       "      <td>24.943904</td>\n",
       "      <td>23.46932</td>\n",
       "      <td>34.104683</td>\n",
       "      <td>25.063291</td>\n",
       "      <td>27.58572</td>\n",
       "    </tr>\n",
       "  </tbody>\n",
       "</table>\n",
       "</div>"
      ],
      "text/plain": [
       "        Scholarship   Diabetes  Hipertension  Alcoholism    Handcap  \\\n",
       "Noshow                                                                \n",
       "No        65.006002  75.056096      76.53068   65.895317  74.936709   \n",
       "Yes       34.993998  24.943904      23.46932   34.104683  25.063291   \n",
       "\n",
       "        SMS_received  \n",
       "Noshow                \n",
       "No          72.41428  \n",
       "Yes         27.58572  "
      ]
     },
     "execution_count": 17,
     "metadata": {},
     "output_type": "execute_result"
    },
    {
     "data": {
      "image/png": "[encoded data removed]",
      "text/plain": [
       "<Figure size 432x288 with 1 Axes>"
      ]
     },
     "metadata": {
      "needs_background": "light"
     },
     "output_type": "display_data"
    }
   ],
   "source": [
    "#Sperating each factor from DB and puttin them in to a dataframe\n",
    "scholarship = df.query('Scholarship == 1').groupby(['Noshow']).count()['Scholarship']/df.query('Scholarship == 1')['Scholarship'].value_counts()[1]*100\n",
    "\n",
    "diabetes = df.query('Diabetes == 1').groupby(['Noshow']).count()['Diabetes']/df.query('Diabetes == 1')['Diabetes'].value_counts()[1]*100\n",
    "\n",
    "hipertension = df.query('Hipertension == 1').groupby(['Noshow']).count()['Hipertension']/df.query('Hipertension == 1')['Hipertension'].value_counts()[1]*100\n",
    "\n",
    "alchololism = df.query('Alcoholism == 1').groupby(['Noshow']).count()['Alcoholism']/df.query('Alcoholism == 1')['Alcoholism'].value_counts()[1]*100\n",
    "\n",
    "handcap = df.query('Handcap == 1').groupby(['Noshow']).count()['Handcap']/df.query('Handcap == 1')['Handcap'].value_counts()[1]*100\n",
    "\n",
    "sms = df.query('SMS_received == 1').groupby(['Noshow']).count()['SMS_received']/df.query('SMS_received == 1')['SMS_received'].value_counts()[1]*100\n",
    "\n",
    "df_new = pd.concat([scholarship,diabetes,hipertension,alchololism,handcap,sms], axis = 1)\n",
    "\n",
    "\n",
    "#plotting visualization\n",
    "no_types = df_new.query('Noshow == \"No\"').iloc[0]\n",
    "yes_types = df_new.query('Noshow == \"Yes\"').iloc[0]\n",
    "\n",
    "ind = np.arange(len(no_types))\n",
    "width = 0.35\n",
    "\n",
    "yes_type_bar = plt.bar(ind,yes_types, width, color = 'r', alpha = 0.7,  label= 'Did not show up')\n",
    "no_type_bar = plt.bar(ind+width,no_types, width, color = 'b', alpha = 0.7,  label= 'Showed Up')\n",
    "plt.legend()\n",
    "plt.title('Different Factors Affecting Successful Appointments')\n",
    "plt.ylabel('Percentage')\n",
    "plt.xlabel('Factors')\n",
    "location = ind +width/2\n",
    "labels = list(df_new.columns)\n",
    "plt.xticks(locations, labels)\n",
    "\n",
    "df_new"
   ]
  },
  {
   "cell_type": "markdown",
   "metadata": {},
   "source": [
    "Data shows that people with medical conditions such as Diabetes, Hipertension, Alcoholism and Handicaps do attend thier appointments, however a good percentage also dont show up. People receiving government grants, i.e. Scholarships still have a higher percentage of not showing up for their appointments compared to the the other factors. "
   ]
  },
  {
   "cell_type": "markdown",
   "metadata": {},
   "source": [
    "<a id='conclusions'></a>\n",
    "## Conclusions"
   ]
  },
  {
   "cell_type": "markdown",
   "metadata": {},
   "source": [
    "#### Limitations"
   ]
  },
  {
   "cell_type": "markdown",
   "metadata": {
    "collapsed": true
   },
   "source": [
    "The dataset had many limitations that required the removal of a small percentage of the dataset as it could not be determined if it was valid data set or not. The data in question here is when the appointment date/time is set before the appointment scheduled time.\n",
    "\n",
    "Another limitation that was considered was determining whether a person shows up based on multiple variables for e.g. Are people in the age group of 19-37 with scholarship are likely to show up if they have any other medical conditions such as diabetes, hipertension. Performining this action removes the number of reliable data to make an adequate assumption"
   ]
  },
  {
   "cell_type": "markdown",
   "metadata": {},
   "source": [
    "#### Conclusions"
   ]
  },
  {
   "cell_type": "markdown",
   "metadata": {},
   "source": [
    "In conclusion, we can confirm on the following based on our findings:\n",
    "\n",
    "- About 30% of people tend not show up for their appointments.\n",
    "\n",
    "- Appointments are made mainly in the weekdays, where people are likley to show up if they have booked it in for Wednesday or Thursday. If it has been booked in for Monday or Friday, they are less likely to show up. \n",
    "\n",
    "- People in the age group from 0-36 are more likely to not show up for their appointments compared to the older age group. \n",
    "\n",
    "- People with scholarship are in the lower income threshold, i.e. below the poverty line. Based on our finding more than 30% receiving scholarships do not show up for their appointments. "
   ]
  },
  {
   "cell_type": "markdown",
   "metadata": {},
   "source": [
    "#### References"
   ]
  },
  {
   "cell_type": "markdown",
   "metadata": {},
   "source": [
    "About each dataset column: https://www.kaggle.com/joniarroba/noshowappointments\n",
    "\n",
    "About Scholarships: https://en.wikipedia.org/wiki/Bolsa_Fam%C3%ADlia"
   ]
  }
 ],
 "metadata": {
  "kernelspec": {
   "display_name": "Python 3",
   "language": "python",
   "name": "python3"
  },
  "language_info": {
   "codemirror_mode": {
    "name": "ipython",
    "version": 3
   },
   "file_extension": ".py",
   "mimetype": "text/x-python",
   "name": "python",
   "nbconvert_exporter": "python",
   "pygments_lexer": "ipython3",
   "version": "3.8.8"
  }
 },
 "nbformat": 4,
 "nbformat_minor": 2
}
